{
 "cells": [
  {
   "cell_type": "code",
   "execution_count": 1,
   "metadata": {
    "executionInfo": {
     "elapsed": 8844,
     "status": "ok",
     "timestamp": 1751519636302,
     "user": {
      "displayName": "Raja Sekhar R Gajjala",
      "userId": "11312140605547295317"
     },
     "user_tz": 240
    },
    "id": "XL7MM8dWsFoT"
   },
   "outputs": [],
   "source": [
    "from pyspark.sql import SparkSession, functions as F\n",
    "from pyspark.sql.window import Window\n",
    "\n",
    "spark = SparkSession.builder.getOrCreate()"
   ]
  },
  {
   "cell_type": "code",
   "execution_count": 2,
   "metadata": {
    "executionInfo": {
     "elapsed": 11517,
     "status": "ok",
     "timestamp": 1751519647850,
     "user": {
      "displayName": "Raja Sekhar R Gajjala",
      "userId": "11312140605547295317"
     },
     "user_tz": 240
    },
    "id": "ZYuixgs4sxhE"
   },
   "outputs": [],
   "source": [
    "# Read CSV\n",
    "df = spark.read.option(\"header\", True).option(\"inferSchema\", True).csv(\"/content/FPT.csv\")"
   ]
  },
  {
   "cell_type": "code",
   "execution_count": 4,
   "metadata": {
    "executionInfo": {
     "elapsed": 65,
     "status": "ok",
     "timestamp": 1751519877720,
     "user": {
      "displayName": "Raja Sekhar R Gajjala",
      "userId": "11312140605547295317"
     },
     "user_tz": 240
    },
    "id": "vjWLtu77s1uU"
   },
   "outputs": [],
   "source": [
    "# Alias DataFrames\n",
    "o = df.alias(\"o\")\n",
    "r = df.alias(\"r\")"
   ]
  },
  {
   "cell_type": "code",
   "execution_count": null,
   "metadata": {
    "executionInfo": {
     "elapsed": 81,
     "status": "ok",
     "timestamp": 1751519884056,
     "user": {
      "displayName": "Raja Sekhar R Gajjala",
      "userId": "11312140605547295317"
     },
     "user_tz": 240
    },
    "id": "Ftg14dSgt1fR"
   },
   "outputs": [],
   "source": [
    "# Join with fully qualified column references\n",
    "joined = o.join(\n",
    "    r,\n",
    "    (F.col(\"o.orig\") == F.col(\"r.dest\")) &\n",
    "    (F.col(\"o.dest\") == F.col(\"r.orig\")) &\n",
    "    (F.col(\"o.acft_regs_cde\") == F.col(\"r.acft_regs_cde\")) &\n",
    "    (F.col(\"r.actl_dep_lcl_tms\") >= F.col(\"o.actl_arr_lcl_tms\")) &\n",
    "    (F.col(\"r.actl_dep_lcl_tms\") <= (F.col(\"o.actl_arr_lcl_tms\") + F.expr(\"INTERVAL 2 DAYS\"))),\n",
    "    how=\"left\"\n",
    ")"
   ]
  },
  {
   "cell_type": "code",
   "execution_count": null,
   "metadata": {
    "executionInfo": {
     "elapsed": 25,
     "status": "ok",
     "timestamp": 1751519886539,
     "user": {
      "displayName": "Raja Sekhar R Gajjala",
      "userId": "11312140605547295317"
     },
     "user_tz": 240
    },
    "id": "e0ROmhlZs5Ul"
   },
   "outputs": [],
   "source": [
    "# Window for ranking\n",
    "window_spec = Window.partitionBy(F.col(\"o.acft_regs_cde\"), F.col(\"o.actl_arr_lcl_tms\")).orderBy(F.col(\"r.actl_dep_lcl_tms\"))"
   ]
  },
  {
   "cell_type": "code",
   "execution_count": 8,
   "metadata": {
    "executionInfo": {
     "elapsed": 114,
     "status": "ok",
     "timestamp": 1751519888649,
     "user": {
      "displayName": "Raja Sekhar R Gajjala",
      "userId": "11312140605547295317"
     },
     "user_tz": 240
    },
    "id": "ndxsuL_Yt9LV"
   },
   "outputs": [],
   "source": [
    "# Add rank column\n",
    "with_rank = joined.withColumn(\"rnk\", F.rank().over(window_spec))"
   ]
  },
  {
   "cell_type": "code",
   "execution_count": 9,
   "metadata": {
    "executionInfo": {
     "elapsed": 107,
     "status": "ok",
     "timestamp": 1751519890460,
     "user": {
      "displayName": "Raja Sekhar R Gajjala",
      "userId": "11312140605547295317"
     },
     "user_tz": 240
    },
    "id": "qScsXHy7s87V"
   },
   "outputs": [],
   "source": [
    "# Select and filter\n",
    "result = with_rank.filter(F.col(\"rnk\") == 1).select(\n",
    "    F.col(\"o.orig\"),\n",
    "    F.col(\"o.dest\"),\n",
    "    F.col(\"o.id\"),\n",
    "    F.col(\"o.actl_dep_lcl_tms\"),\n",
    "    F.col(\"o.actl_arr_lcl_tms\"),\n",
    "    F.col(\"o.flight_num\"),\n",
    "    F.col(\"o.flights\"),\n",
    "    F.col(\"o.acft_regs_cde\"),\n",
    "    F.col(\"o.airborne_lcl_tms\"),\n",
    "    F.col(\"o.landing_lcl_tms\"),\n",
    "    F.col(\"r.id\").alias(\"next_flight_id\")\n",
    ").orderBy(F.col(\"o.id\"))"
   ]
  },
  {
   "cell_type": "code",
   "execution_count": 10,
   "metadata": {
    "colab": {
     "base_uri": "https://localhost:8080/"
    },
    "executionInfo": {
     "elapsed": 3425,
     "status": "ok",
     "timestamp": 1751519895493,
     "user": {
      "displayName": "Raja Sekhar R Gajjala",
      "userId": "11312140605547295317"
     },
     "user_tz": 240
    },
    "id": "NBvqLRcBtBWs",
    "outputId": "ec6178cb-14dc-46ac-cc9f-5fcfdd8adb14"
   },
   "outputs": [
    {
     "name": "stdout",
     "output_type": "stream",
     "text": [
      "+----+----+---+-------------------+-------------------+----------+-------+-------------+-------------------+-------------------+--------------+\n",
      "|orig|dest| id|   actl_dep_lcl_tms|   actl_arr_lcl_tms|flight_num|flights|acft_regs_cde|   airborne_lcl_tms|    landing_lcl_tms|next_flight_id|\n",
      "+----+----+---+-------------------+-------------------+----------+-------+-------------+-------------------+-------------------+--------------+\n",
      "| YYZ| YVR|  1|2022-12-31 20:36:00|2022-12-31 22:28:00|       127|      1|          737|2022-12-31 21:02:00|2022-12-31 22:17:00|          NULL|\n",
      "| YYZ| YVR|  2|2022-12-31 19:39:00|2022-12-31 21:22:00|       185|      1|          451|2022-12-31 20:05:00|2022-12-31 21:14:00|          NULL|\n",
      "| YYZ| YVR|  3|2022-12-31 18:53:00|2022-12-31 20:33:00|       123|      1|          843|2022-12-31 19:10:00|2022-12-31 20:22:00|          NULL|\n",
      "| YYZ| YVR|  4|2022-12-31 17:27:00|2022-12-31 19:00:00|       121|      1|          747|2022-12-31 17:43:00|2022-12-31 18:53:00|          NULL|\n",
      "| YYZ| YVR|  5|2022-12-31 16:44:00|2022-12-31 18:31:00|       119|      1|          464|2022-12-31 16:56:00|2022-12-31 18:23:00|          NULL|\n",
      "| YYZ| YVR|  6|2022-12-31 14:35:00|2022-12-31 16:43:00|       113|      1|          743|2022-12-31 15:04:00|2022-12-31 16:35:00|          NULL|\n",
      "| YYZ| YVR|  7|2022-12-31 13:08:00|2022-12-31 14:53:00|       111|      1|          462|2022-12-31 13:20:00|2022-12-31 14:46:00|            13|\n",
      "| YYZ| YVR|  8|2022-12-31 11:23:00|2022-12-31 13:03:00|       105|      1|          735|2022-12-31 11:40:00|2022-12-31 12:54:00|            14|\n",
      "| YYZ| YVR|  9|2022-12-31 10:18:00|2022-12-31 12:27:00|       107|      1|          457|2022-12-31 10:39:00|2022-12-31 12:08:00|            15|\n",
      "| YYZ| YVR| 10|2022-12-31 08:50:00|2022-12-31 10:38:00|       103|      1|          451|2022-12-31 09:13:00|2022-12-31 10:28:00|            16|\n",
      "| YVR| YYZ| 12|2022-12-31 16:02:00|2022-12-31 23:20:00|       120|      1|          462|2022-12-31 16:15:00|2022-12-31 23:10:00|          NULL|\n",
      "| YVR| YYZ| 13|2022-12-31 14:58:00|2022-12-31 22:20:00|       116|      1|          735|2022-12-31 15:16:00|2022-12-31 22:00:00|          NULL|\n",
      "| YVR| YYZ| 14|2022-12-31 14:02:00|2022-12-31 21:28:00|       118|      1|          457|2022-12-31 14:13:00|2022-12-31 21:15:00|          NULL|\n",
      "| YVR| YYZ| 15|2022-12-31 12:47:00|2022-12-31 19:59:00|       114|      1|          738|2022-12-31 13:05:00|2022-12-31 19:48:00|             1|\n",
      "| YVR| YYZ| 16|2022-12-31 11:55:00|2022-12-31 19:10:00|       106|      1|          451|2022-12-31 12:10:00|2022-12-31 18:55:00|             2|\n",
      "| YVR| YYZ| 17|2022-12-31 10:08:00|2022-12-31 17:27:00|       110|      1|          737|2022-12-31 10:23:00|2022-12-31 17:15:00|             4|\n",
      "| YVR| YYZ| 18|2022-12-31 09:48:00|2022-12-31 16:58:00|       108|      1|          747|2022-12-31 10:02:00|2022-12-31 16:50:00|             4|\n",
      "| YVR| YYZ| 19|2022-12-31 08:07:00|2022-12-31 15:19:00|       104|      1|          843|2022-12-31 08:24:00|2022-12-31 15:10:00|             5|\n",
      "| YVR| YYZ| 20|2022-12-31 06:04:00|2022-12-31 13:24:00|       100|      1|          743|2022-12-31 06:23:00|2022-12-31 13:16:00|             6|\n",
      "| YVR| YYZ| 21|2022-12-31 00:29:00|2022-12-31 08:27:00|       128|      1|          451|2022-12-31 01:01:00|2022-12-31 08:11:00|            10|\n",
      "+----+----+---+-------------------+-------------------+----------+-------+-------------+-------------------+-------------------+--------------+\n",
      "\n"
     ]
    }
   ],
   "source": [
    "# Show result\n",
    "result.show()"
   ]
  }
 ],
 "metadata": {
  "colab": {
   "authorship_tag": "ABX9TyMGQOc8wRAAq2eRiSdGjopY",
   "provenance": []
  },
  "kernelspec": {
   "display_name": "Python 3",
   "name": "python3"
  },
  "language_info": {
   "name": "python"
  }
 },
 "nbformat": 4,
 "nbformat_minor": 0
}
